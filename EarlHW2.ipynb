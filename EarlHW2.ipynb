{
 "cells": [
  {
   "cell_type": "code",
   "execution_count": 18,
   "metadata": {},
   "outputs": [],
   "source": [
    "import numpy as np\n",
    "from scipy.stats import binom\n",
    "\n",
    "## Call Payoff Function\n",
    "def callPayoff(spot, strike):\n",
    "    return np.maximum(spot - strike, 0.0)\n",
    "\n",
    "## Put Payoff Function\n",
    "def putPayoff(spot, strike):\n",
    "    return np.maximum(strike - spot, 0.0)\n"
   ]
  },
  {
   "cell_type": "code",
   "execution_count": null,
   "metadata": {},
   "outputs": [],
   "source": []
  },
  {
   "cell_type": "code",
   "execution_count": 56,
   "metadata": {},
   "outputs": [],
   "source": [
    "def euroBinomPricerRecursiveMatrix(S, K, r, v, q, T, n, payoff, verbose = True):\n",
    "    nodes = n  + 1\n",
    "    h = T / n\n",
    "    #u = np.exp((r - q) * h + v * np.sqrt(h))\n",
    "    u = 1.3\n",
    "    #d = np.exp((r - q) * h - v * np.sqrt(h))\n",
    "    d = 0.8\n",
    "    pu = (np.exp((r - q) * h) - d) / (u - d)\n",
    "    pd = 1.0 - pu\n",
    "    disc = np.exp(-r * h)\n",
    "    \n",
    "    \n",
    "    ## Arrays to store the spot prices and option values\n",
    "    Ct = np.zeros((nodes, n+1))\n",
    "    St = np.zeros((nodes, n+1))\n",
    "    Dt = np.zeros((nodes, n+1))\n",
    "    Bt = np.zeros((nodes, n+1))\n",
    "    \n",
    "    for i in range(nodes):\n",
    "        St[i, n] = S * (u**(n-i)) * (d**i)\n",
    "        Ct[i, n] = payoff(St[i, n], K)\n",
    "    \n",
    "\n",
    "    for t in range((n-1), -1, -1):\n",
    "        for j in range(t+1):\n",
    "            St[j, t] = St[j, t+1] / u\n",
    "            Ct[j, t] = disc * ((pu * Ct[j, t+1]) + (pd * Ct[j+1, t+1]))\n",
    "            Dt[j, t] = np.exp(-q * h) * (Ct[j, t+1] - Ct[j+1, t+1]) / (St[j, t] * (u - d))\n",
    "            Bt[j, t] = np.exp(-r * h) * (((u * Ct[j + 1, t+1]) - (d * Ct[j, t+ 1]))/(u - d))\n",
    "        \n",
    "    if verbose:\n",
    "        print(np.around(St, 3))\n",
    "        print(\"\\n\")\n",
    "        print(np.around(Ct, 3))\n",
    "        print(\"\\n\")\n",
    "        print(np.around(Dt, 3))\n",
    "        print(\"\\n\")\n",
    "        print(np.around(Bt, 3))          \n",
    "            \n",
    "    return Ct[0,0]"
   ]
  },
  {
   "cell_type": "code",
   "execution_count": null,
   "metadata": {},
   "outputs": [],
   "source": []
  },
  {
   "cell_type": "code",
   "execution_count": 57,
   "metadata": {},
   "outputs": [
    {
     "name": "stdout",
     "output_type": "stream",
     "text": [
      "[[100. 130.]\n",
      " [  0.  80.]]\n",
      "\n",
      "\n",
      "[[11.568 25.   ]\n",
      " [ 0.     0.   ]]\n",
      "\n",
      "\n",
      "[[0.5 0. ]\n",
      " [0.  0. ]]\n",
      "\n",
      "\n",
      "[[-38.432   0.   ]\n",
      " [  0.      0.   ]]\n"
     ]
    },
    {
     "data": {
      "text/plain": [
       "11.568422433907068"
      ]
     },
     "execution_count": 57,
     "metadata": {},
     "output_type": "execute_result"
    }
   ],
   "source": [
    "#Problem 1\n",
    "\n",
    "S = 100\n",
    "K = 105\n",
    "v = 0.3\n",
    "r = 0.08\n",
    "T = 0.5\n",
    "q = 0.0\n",
    "n = 1\n",
    "\n",
    "callPrc = euroBinomPricerRecursiveMatrix(S, K, r, v, q, T, n, callPayoff, verbose = True)\n",
    "callPrc"
   ]
  },
  {
   "cell_type": "code",
   "execution_count": 58,
   "metadata": {},
   "outputs": [
    {
     "name": "stdout",
     "output_type": "stream",
     "text": [
      "[[100. 130.]\n",
      " [  0.  80.]]\n",
      "\n",
      "\n",
      "[[12.451  0.   ]\n",
      " [ 0.    25.   ]]\n",
      "\n",
      "\n",
      "[[-0.5  0. ]\n",
      " [ 0.   0. ]]\n",
      "\n",
      "\n",
      "[[62.451  0.   ]\n",
      " [ 0.     0.   ]]\n"
     ]
    },
    {
     "data": {
      "text/plain": [
       "12.45131354490101"
      ]
     },
     "execution_count": 58,
     "metadata": {},
     "output_type": "execute_result"
    }
   ],
   "source": [
    "#Problem 1\n",
    "\n",
    "S = 100\n",
    "K = 105\n",
    "v = 0.3\n",
    "r = 0.08\n",
    "T = 0.5\n",
    "q = 0.0\n",
    "n = 1\n",
    "\n",
    "putPrc = euroBinomPricerRecursiveMatrix(S, K, r, v, q, T, n, putPayoff, verbose = True)\n",
    "putPrc"
   ]
  },
  {
   "cell_type": "code",
   "execution_count": 60,
   "metadata": {},
   "outputs": [],
   "source": [
    "# Problem 1\n",
    "#a. The premium for the European call is ~ $11.57, with a Delta of 0.5, \n",
    "#and a Beta of -38.432\n",
    "\n",
    "#b. The premium for the European put is ~$12.45, with a Delta of -0.5,\n",
    "#and a Beta of 62.451"
   ]
  },
  {
   "cell_type": "code",
   "execution_count": null,
   "metadata": {},
   "outputs": [],
   "source": []
  },
  {
   "cell_type": "code",
   "execution_count": 66,
   "metadata": {},
   "outputs": [
    {
     "name": "stdout",
     "output_type": "stream",
     "text": [
      "[[100. 130.]\n",
      " [  0.  80.]]\n",
      "\n",
      "\n",
      "[[ 7.471  0.   ]\n",
      " [ 0.    15.   ]]\n",
      "\n",
      "\n",
      "[[-0.3  0. ]\n",
      " [ 0.   0. ]]\n",
      "\n",
      "\n",
      "[[37.471  0.   ]\n",
      " [ 0.     0.   ]]\n"
     ]
    },
    {
     "data": {
      "text/plain": [
       "7.470788126940606"
      ]
     },
     "execution_count": 66,
     "metadata": {},
     "output_type": "execute_result"
    }
   ],
   "source": [
    "#Problem 2\n",
    "\n",
    "S = 100\n",
    "K = 95\n",
    "v = 0.3\n",
    "r = 0.08\n",
    "T = 0.5\n",
    "q = 0.0\n",
    "n = 1\n",
    "\n",
    "putPrc = euroBinomPricerRecursiveMatrix(S, K, r, v, q, T, n, putPayoff, verbose = True)\n",
    "putPrc"
   ]
  },
  {
   "cell_type": "code",
   "execution_count": 68,
   "metadata": {},
   "outputs": [
    {
     "data": {
      "text/plain": [
       "16.195791407469894"
      ]
     },
     "execution_count": 68,
     "metadata": {},
     "output_type": "execute_result"
    }
   ],
   "source": [
    "callPrc"
   ]
  },
  {
   "cell_type": "code",
   "execution_count": 72,
   "metadata": {},
   "outputs": [
    {
     "name": "stdout",
     "output_type": "stream",
     "text": [
      "0.8042085925301059\n"
     ]
    }
   ],
   "source": [
    "barbitrage = 17-callPrc\n",
    "print(barbitrage)"
   ]
  },
  {
   "cell_type": "code",
   "execution_count": 73,
   "metadata": {},
   "outputs": [
    {
     "name": "stdout",
     "output_type": "stream",
     "text": [
      "0.6957914074698941\n"
     ]
    }
   ],
   "source": [
    "carbitrage = callPrc-15.5\n",
    "print(carbitrage)"
   ]
  },
  {
   "cell_type": "code",
   "execution_count": 71,
   "metadata": {},
   "outputs": [],
   "source": [
    "#Problem 2\n",
    "#a. The price of the European put is $7.471\n",
    "#b. Short the call at price $17 then our arbitrage would be ~ 80 cents. \n",
    "#c. Long the call at price $15.50 our arbitrage would be ~  70 cents."
   ]
  },
  {
   "cell_type": "code",
   "execution_count": null,
   "metadata": {},
   "outputs": [],
   "source": []
  },
  {
   "cell_type": "code",
   "execution_count": 80,
   "metadata": {},
   "outputs": [
    {
     "name": "stdout",
     "output_type": "stream",
     "text": [
      "[[100. 130. 169.]\n",
      " [  0.  80. 104.]\n",
      " [  0.   0.  64.]]\n",
      "\n",
      "\n",
      "[[19.994 38.725 74.   ]\n",
      " [ 0.     4.165  9.   ]\n",
      " [ 0.     0.     0.   ]]\n",
      "\n",
      "\n",
      "[[0.691 1.    0.   ]\n",
      " [0.    0.225 0.   ]\n",
      " [0.    0.    0.   ]]\n",
      "\n",
      "\n",
      "[[-49.127 -91.275   0.   ]\n",
      " [  0.    -13.835   0.   ]\n",
      " [  0.      0.      0.   ]]\n"
     ]
    },
    {
     "data": {
      "text/plain": [
       "19.993693459343987"
      ]
     },
     "execution_count": 80,
     "metadata": {},
     "output_type": "execute_result"
    }
   ],
   "source": [
    "#Problem 3\n",
    "\n",
    "S = 100\n",
    "K = 95\n",
    "v = 0.3\n",
    "r = 0.08\n",
    "T = 1\n",
    "q = 0.0\n",
    "n = 2\n",
    "\n",
    "callPrc = euroBinomPricerRecursiveMatrix(S, K, r, v, q, T, n, callPayoff, verbose = True)\n",
    "callPrc\n"
   ]
  },
  {
   "cell_type": "code",
   "execution_count": null,
   "metadata": {},
   "outputs": [],
   "source": [
    "#Problem 3\n",
    "\n",
    "#The premium for the fu is $38.725, Delta is 1, and the Beta is -91.275\n",
    "#The premium for fd it is $4.165, Delta is 0.225, and the Beta is -13.835\n",
    "#The premium for the call is $19.94, Delta is 0.691, \n",
    "#and the Beta is -49.127 \n"
   ]
  },
  {
   "cell_type": "code",
   "execution_count": null,
   "metadata": {},
   "outputs": [],
   "source": []
  },
  {
   "cell_type": "code",
   "execution_count": 96,
   "metadata": {},
   "outputs": [
    {
     "name": "stdout",
     "output_type": "stream",
     "text": [
      "[[130.    158.762 193.887 236.784]\n",
      " [  0.    112.28  137.122 167.459]\n",
      " [  0.      0.     96.975 118.431]\n",
      " [  0.      0.      0.     83.757]]\n",
      "\n",
      "\n",
      "[[ 43.967  68.696 101.387 141.784]\n",
      " [  0.     25.359  44.621  72.459]\n",
      " [  0.      0.     10.422  23.431]\n",
      " [  0.      0.      0.      0.   ]]\n",
      "\n",
      "\n",
      "[[0.932 1.    1.    0.   ]\n",
      " [0.    0.852 1.    0.   ]\n",
      " [0.    0.    0.676 0.   ]\n",
      " [0.    0.    0.    0.   ]]\n",
      "\n",
      "\n",
      "[[-77.237 -90.066 -92.5     0.   ]\n",
      " [  0.    -70.29  -92.5     0.   ]\n",
      " [  0.      0.    -55.109   0.   ]\n",
      " [  0.      0.      0.      0.   ]]\n"
     ]
    },
    {
     "data": {
      "text/plain": [
       "43.96737396964083"
      ]
     },
     "execution_count": 96,
     "metadata": {},
     "output_type": "execute_result"
    }
   ],
   "source": [
    "#Problem 4\n",
    "\n",
    "S = 130\n",
    "K = 95\n",
    "v = 0.3\n",
    "r = 0.08\n",
    "T = 1\n",
    "q = 0.0\n",
    "n = 3\n",
    "\n",
    "callPrc = euroBinomPricerRecursiveMatrix(S, K, r, v, q, T, n, callPayoff, verbose = True)\n",
    "callPrc"
   ]
  },
  {
   "cell_type": "code",
   "execution_count": 79,
   "metadata": {},
   "outputs": [],
   "source": [
    "#Problem 4\n",
    "#80 = 0.485\n",
    "#90 = 0.609\n",
    "#110 = 0.828\n",
    "#120 = 0.885\n",
    "#130 = 0.932\n",
    "\n",
    "#Delta increases at a decreasing rate as S increase. \n"
   ]
  },
  {
   "cell_type": "code",
   "execution_count": null,
   "metadata": {},
   "outputs": [],
   "source": []
  },
  {
   "cell_type": "code",
   "execution_count": 82,
   "metadata": {},
   "outputs": [],
   "source": [
    "#Problem 5\n",
    "\n",
    "def euroBinomPricerRecursiveMatrix(S, K, r, v, q, T, n, payoff, verbose = True):\n",
    "    nodes = n  + 1\n",
    "    h = T / n\n",
    "    u = np.exp((r - q) * h + v * np.sqrt(h))\n",
    "    #u = 1.3\n",
    "    d = np.exp((r - q) * h - v * np.sqrt(h))\n",
    "    #d = 0.8\n",
    "    pu = (np.exp((r - q) * h) - d) / (u - d)\n",
    "    pd = 1.0 - pu\n",
    "    disc = np.exp(-r * h)\n",
    "    \n",
    "    \n",
    "    ## Arrays to store the spot prices and option values\n",
    "    Ct = np.zeros((nodes, n+1))\n",
    "    St = np.zeros((nodes, n+1))\n",
    "    Dt = np.zeros((nodes, n+1))\n",
    "    Bt = np.zeros((nodes, n+1))\n",
    "    \n",
    "    for i in range(nodes):\n",
    "        St[i, n] = S * (u**(n-i)) * (d**i)\n",
    "        Ct[i, n] = payoff(St[i, n], K)\n",
    "    \n",
    "\n",
    "    for t in range((n-1), -1, -1):\n",
    "        for j in range(t+1):\n",
    "            St[j, t] = St[j, t+1] / u\n",
    "            Ct[j, t] = disc * ((pu * Ct[j, t+1]) + (pd * Ct[j+1, t+1]))\n",
    "            Dt[j, t] = np.exp(-q * h) * (Ct[j, t+1] - Ct[j+1, t+1]) / (St[j, t] * (u - d))\n",
    "            Bt[j, t] = np.exp(-r * h) * (((u * Ct[j + 1, t+1]) - (d * Ct[j, t+ 1]))/(u - d))\n",
    "        \n",
    "    if verbose:\n",
    "        print(np.around(St, 3))\n",
    "        print(\"\\n\")\n",
    "        print(np.around(Ct, 3))\n",
    "        print(\"\\n\")\n",
    "        print(np.around(Dt, 3))\n",
    "        print(\"\\n\")\n",
    "        print(np.around(Bt, 3))          \n",
    "            \n",
    "    return Ct[0,0]"
   ]
  },
  {
   "cell_type": "code",
   "execution_count": null,
   "metadata": {},
   "outputs": [],
   "source": [
    "#Problem 5\n",
    "\n",
    "def euroBinomPricerRecursiveMatrix1(S, K, r, v, q, T, n, payoff, verbose = True):\n",
    "    nodes = n  + 1\n",
    "    h = T / n\n",
    "    u = np.exp((r - q) * h + v * np.sqrt(h))\n",
    "    #u = 1.3\n",
    "    d = np.exp((r - q) * h - v * np.sqrt(h))\n",
    "    #d = 0.8\n",
    "    pu = (np.exp((r - q) * h) - d) / (u - d)\n",
    "    pd = 1.0 - pu\n",
    "    disc = np.exp(-r * h)\n",
    "    \n",
    "    \n",
    "    ## Arrays to store the spot prices and option values\n",
    "    Ct = np.zeros((nodes, n+1))\n",
    "    St = np.zeros((nodes, n+1))\n",
    "    Dt = np.zeros((nodes, n+1))\n",
    "    Bt = np.zeros((nodes, n+1))\n",
    "    \n",
    "    for i in range(nodes):\n",
    "        St[i, n] = S * (u**(n-i)) * (d**i)\n",
    "        Ct[i, n] = payoff(St[i, n], K)\n",
    "    \n",
    "\n",
    "    for t in range((n-1), -1, -1):\n",
    "        for j in range(t+1):\n",
    "            St[j, t] = St[j, t+1] / u\n",
    "            Ct[j, t] = disc * ((pu * Ct[j, t+1]) + (pd * Ct[j+1, t+1]))\n",
    "            Dt[j, t] = np.exp(-q * h) * (Ct[j, t+1] - Ct[j+1, t+1]) / (St[j, t] * (u - d))\n",
    "            Bt[j, t] = np.exp(-r * h) * (((u * Ct[j + 1, t+1]) - (d * Ct[j, t+ 1]))/(u - d))\n",
    "        \n",
    "    if verbose:\n",
    "        print(np.around(St, 3))\n",
    "        print(\"\\n\")\n",
    "        print(np.around(Ct, 3))\n",
    "        print(\"\\n\")\n",
    "        print(np.around(Dt, 3))\n",
    "        print(\"\\n\")\n",
    "        print(np.around(Bt, 3))          \n",
    "            \n",
    "    return Ct[0,0]"
   ]
  },
  {
   "cell_type": "code",
   "execution_count": 90,
   "metadata": {},
   "outputs": [
    {
     "name": "stdout",
     "output_type": "stream",
     "text": [
      "[[100.    122.125 149.144 182.142]\n",
      " [  0.     86.369 105.478 128.815]\n",
      " [  0.      0.     74.596  91.101]\n",
      " [  0.      0.      0.     64.428]]\n",
      "\n",
      "\n",
      "[[18.283 33.149 56.644 87.142]\n",
      " [ 0.     6.69  15.04  33.815]\n",
      " [ 0.     0.     0.     0.   ]\n",
      " [ 0.     0.     0.     0.   ]]\n",
      "\n",
      "\n",
      "[[0.74  0.953 1.    0.   ]\n",
      " [0.    0.487 0.897 0.   ]\n",
      " [0.    0.    0.    0.   ]\n",
      " [0.    0.    0.    0.   ]]\n",
      "\n",
      "\n",
      "[[-55.719 -83.207 -92.5     0.   ]\n",
      " [  0.    -35.375 -79.532   0.   ]\n",
      " [  0.      0.      0.      0.   ]\n",
      " [  0.      0.      0.      0.   ]]\n"
     ]
    },
    {
     "data": {
      "text/plain": [
       "18.28255220737056"
      ]
     },
     "execution_count": 90,
     "metadata": {},
     "output_type": "execute_result"
    }
   ],
   "source": [
    "# Problem 5\n",
    "\n",
    "S = 100\n",
    "K = 95\n",
    "v = 0.3\n",
    "r = 0.08\n",
    "T = 1\n",
    "q = 0.0\n",
    "n = 3\n",
    "\n",
    "callPrc = euroBinomPricerRecursiveMatrix(S, K, r, v, q, T, n, callPayoff, verbose = True)\n",
    "callPrc"
   ]
  },
  {
   "cell_type": "code",
   "execution_count": 91,
   "metadata": {},
   "outputs": [
    {
     "name": "stdout",
     "output_type": "stream",
     "text": [
      "[[100.    122.125 149.144 182.142]\n",
      " [  0.     86.369 105.478 128.815]\n",
      " [  0.      0.     74.596  91.101]\n",
      " [  0.      0.      0.     64.428]]\n",
      "\n",
      "\n",
      "[[ 5.979  1.091  0.     0.   ]\n",
      " [ 0.    10.387  2.062  0.   ]\n",
      " [ 0.     0.    17.904  3.899]\n",
      " [ 0.     0.     0.    30.572]]\n",
      "\n",
      "\n",
      "[[-0.26  -0.047  0.     0.   ]\n",
      " [ 0.    -0.513 -0.103  0.   ]\n",
      " [ 0.     0.    -1.     0.   ]\n",
      " [ 0.     0.     0.     0.   ]]\n",
      "\n",
      "\n",
      "[[31.977  6.859  0.     0.   ]\n",
      " [ 0.    54.691 12.968  0.   ]\n",
      " [ 0.     0.    92.5    0.   ]\n",
      " [ 0.     0.     0.     0.   ]]\n"
     ]
    },
    {
     "data": {
      "text/plain": [
       "5.97860511410097"
      ]
     },
     "execution_count": 91,
     "metadata": {},
     "output_type": "execute_result"
    }
   ],
   "source": [
    "#Problem 5\n",
    "\n",
    "S = 100\n",
    "K = 95\n",
    "v = 0.3\n",
    "r = 0.08\n",
    "T = 1\n",
    "q = 0.0\n",
    "n = 3\n",
    "\n",
    "putPrc = euroBinomPricerRecursiveMatrix(S, K, r, v, q, T, n, putPayoff, verbose = True)\n",
    "putPrc"
   ]
  },
  {
   "cell_type": "code",
   "execution_count": 92,
   "metadata": {},
   "outputs": [
    {
     "name": "stdout",
     "output_type": "stream",
     "text": [
      "12.30394709326959\n"
     ]
    }
   ],
   "source": [
    "#problem 5 b\n",
    "(callPrcputPrc) = callPrc-putPrc\n",
    "print(callPrcputPrc)"
   ]
  },
  {
   "cell_type": "code",
   "execution_count": 97,
   "metadata": {},
   "outputs": [
    {
     "name": "stdout",
     "output_type": "stream",
     "text": [
      "12.3039470932696\n"
     ]
    }
   ],
   "source": [
    "#problem 5 c\n",
    "parity = 100 - (95*np.exp(-.08*1))\n",
    "print(parity)"
   ]
  },
  {
   "cell_type": "code",
   "execution_count": 113,
   "metadata": {},
   "outputs": [],
   "source": [
    "def euroBinomPricerRecursive(S, K, r, v, q, T, n, payoff, verbose = False):\n",
    "    nodes = n  + 1\n",
    "    h = T / n\n",
    "    u = np.exp((r - q) * h + v * np.sqrt(h))\n",
    "    d = np.exp((r - q) * h - v * np.sqrt(h))\n",
    "    pu = (np.exp((r - q) * h) - d) / (u - d)\n",
    "    pd = 1.0 - pu\n",
    "    disc = np.exp(-r * h)\n",
    "   \n",
    "   \n",
    "   ## Arrays to store the spot prices and option values\n",
    "    Ct = np.empty(nodes)\n",
    "    St = np.empty(nodes)\n",
    "   \n",
    "    for i in range(nodes):\n",
    "        St[i] = S * (u ** (n - i)) * (d ** i)\n",
    "        Ct[i] = payoff(St[i], K)\n",
    "   \n",
    "    if verbose:\n",
    "        print(Ct)\n",
    "       \n",
    "    for t in range((n - 1), -1, -1):\n",
    "        for j in range(t+1):\n",
    "            Ct[j] = disc * (pu * Ct[j] + pd * Ct[j+1])\n",
    "            St[j] = St[j] / u\n",
    "            Ct[j] = np.maximum(Ct[j], K - St[j])\n",
    "        \n",
    "    print(Ct)\n",
    "           \n",
    "    return Ct[0]\n",
    "\n"
   ]
  },
  {
   "cell_type": "code",
   "execution_count": 114,
   "metadata": {},
   "outputs": [],
   "source": [
    "def euroBinomPricerRecursiveMatrix(S, K, r, v, q, T, n, payoff, verbose = False):\n",
    "    nodes = n  + 1\n",
    "    h = T / n\n",
    "    u = np.exp((r - q) * h + v * np.sqrt(h))\n",
    "    d = np.exp((r - q) * h - v * np.sqrt(h))\n",
    "    pu = (np.exp((r - q) * h) - d) / (u - d)\n",
    "    pd = 1.0 - pu\n",
    "    disc = np.exp(-r * h)\n",
    "   \n",
    "   ## Arrays to store the spot prices and option values\n",
    "    Ct = np.zeros((nodes, n+1))\n",
    "    St = np.zeros((nodes, n+1))\n",
    "    Dt = np.zeros((nodes, n+1))\n",
    "   \n",
    "    for i in range(nodes):\n",
    "        St[i, n] = S * (u**(n-i)) * (d**i)\n",
    "        Ct[i, n] = payoff(St[i, n], K)\n",
    "   \n",
    "\n",
    "    for t in range((n-1), -1, -1):\n",
    "        for j in range(t+1):\n",
    "            St[j, t] = St[j, t+1] / u\n",
    "            Ct[j, t] = disc * ((pu * Ct[j, t+1]) + (pd * Ct[j+1, t+1]))\n",
    "            Dt[j, t] = np.exp(-q * h) * (Ct[j, t+1] - Ct[j+1, t+1]) / (St[j, t] * (u - d))\n",
    "            \n",
    "    return Ct[0,0]"
   ]
  },
  {
   "cell_type": "code",
   "execution_count": 115,
   "metadata": {},
   "outputs": [],
   "source": [
    "S = 100\n",
    "K = 95\n",
    "r = 0.08\n",
    "v = 0.30\n",
    "q = 0.0\n",
    "T = 1\n",
    "n = 3"
   ]
  },
  {
   "cell_type": "code",
   "execution_count": 116,
   "metadata": {},
   "outputs": [
    {
     "name": "stdout",
     "output_type": "stream",
     "text": [
      "[23.99012609 17.48114202 20.40351726  0.        ]\n",
      "[ 6.67790123 11.7087201  20.40351726 30.57157332]\n",
      "The European Call Premium:  18.283 The American call is  18.283\n",
      "The European Put Premium:  5.979 The American put is  6.678\n"
     ]
    }
   ],
   "source": [
    "callPrcA = euroBinomPricerRecursive(S, K, r, v, q, T, n, callPayoff,  verbose = False)\n",
    "callPrcE = euroBinomPricerRecursiveMatrix(S, K, r, v, q, T, n, callPayoff,  verbose = False)\n",
    "putPrcA = euroBinomPricerRecursive(S, K, r, v, q, T, n, putPayoff,  verbose = False)\n",
    "putPrcE = euroBinomPricerRecursiveMatrix(S, K, r, v, q, T, n, putPayoff,  verbose = False)\n",
    "\n",
    "print(f\"The European Call Premium: {callPrcE : 0.3f} The American call is {callPrcE : 0.3f}\")\n",
    "print(f\"The European Put Premium: {putPrcE : 0.3f} The American put is {putPrcA : 0.3f}\")\n"
   ]
  },
  {
   "cell_type": "code",
   "execution_count": null,
   "metadata": {},
   "outputs": [],
   "source": []
  },
  {
   "cell_type": "code",
   "execution_count": 95,
   "metadata": {},
   "outputs": [],
   "source": [
    "#Problem 5\n",
    "#a. The premium for an American call option is $18.28. \n",
    "#There is no early excersize. \n",
    "#b.The European call option premium is $5.98. \n",
    "#The difference between the two is: $12.30395\n",
    "#c The price of the European put is $5.98. \n",
    "#The put-call parity holds becasue the \n",
    "#  callPrc-putPrc = 100 - (95*np.exp(-.08*1)), \n",
    "#Which means that $12.30 = $12.30. \n",
    "#Therefore, we can conclude that the put-call parity holds. \n",
    "#d. The American put is $6.678 and the European up is $5.979. \n",
    "#The American has early excersize on. That's why it's bigger. "
   ]
  },
  {
   "cell_type": "code",
   "execution_count": 120,
   "metadata": {},
   "outputs": [],
   "source": [
    "#Problem 6\n",
    "S = 40\n",
    "K = 40\n",
    "r = 0.08\n",
    "v = 0.30\n",
    "q = 0.0\n",
    "T = 0.5\n",
    "n = 3\n",
    "h = T/n\n",
    "\n",
    "u6 = np.exp((r - q) * h + v * np.sqrt(h))\n",
    "d6 = np.exp((r - q) * h - v * np.sqrt(h))"
   ]
  },
  {
   "cell_type": "code",
   "execution_count": 121,
   "metadata": {},
   "outputs": [
    {
     "name": "stdout",
     "output_type": "stream",
     "text": [
      "[6.52754713 5.6208478  7.84406148 0.        ]\n",
      "[ 2.95422756  4.8747172   7.84406148 11.16886174]\n",
      "The European Call Premium:  4.377 The American call is  4.377\n",
      "The European Put Premium:  2.809 The American put is  2.954\n",
      "1.1454617381452392\n",
      "0.8966038495199921\n"
     ]
    }
   ],
   "source": [
    "callPrcA = euroBinomPricerRecursive(S, K, r, v, q, T, n, callPayoff,  verbose = False)\n",
    "callPrcE = euroBinomPricerRecursiveMatrix(S, K, r, v, q, T, n, callPayoff,  verbose = False)\n",
    "putPrcA = euroBinomPricerRecursive(S, K, r, v, q, T, n, putPayoff,  verbose = False)\n",
    "putPrcE = euroBinomPricerRecursiveMatrix(S, K, r, v, q, T, n, putPayoff,  verbose = False)\n",
    "\n",
    "print(f\"The European Call Premium: {callPrcE : 0.3f} The American call is {callPrcE : 0.3f}\")\n",
    "print(f\"The European Put Premium: {putPrcE : 0.3f} The American put is {putPrcA : 0.3f}\")\n",
    "print(u6)\n",
    "print(d6)\n"
   ]
  },
  {
   "cell_type": "code",
   "execution_count": null,
   "metadata": {},
   "outputs": [],
   "source": [
    "#Problem 6\n",
    "#a. u is ~ 1.1455 and d is ~ 0.8966.\n",
    "#b. The American put premia is $2.954 and the call is $4.377\n",
    "#The European put premia is $4.377 and the call is $2.809\n"
   ]
  }
 ],
 "metadata": {
  "kernelspec": {
   "display_name": "Python 3",
   "language": "python",
   "name": "python3"
  },
  "language_info": {
   "codemirror_mode": {
    "name": "ipython",
    "version": 3
   },
   "file_extension": ".py",
   "mimetype": "text/x-python",
   "name": "python",
   "nbconvert_exporter": "python",
   "pygments_lexer": "ipython3",
   "version": "3.6.5"
  }
 },
 "nbformat": 4,
 "nbformat_minor": 2
}
